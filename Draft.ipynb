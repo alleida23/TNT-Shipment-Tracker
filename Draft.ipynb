{
 "cells": [
  {
   "cell_type": "markdown",
   "id": "fd7d9477",
   "metadata": {},
   "source": [
    "### Import required libraries and modules"
   ]
  },
  {
   "cell_type": "code",
   "execution_count": 1,
   "id": "08638e20",
   "metadata": {},
   "outputs": [],
   "source": [
    "import pandas as pd\n",
    "from selenium import webdriver\n",
    "from selenium.webdriver.chrome.service import Service as ChromeService\n",
    "from bs4 import BeautifulSoup\n",
    "from datetime import datetime, timedelta\n",
    "import os"
   ]
  },
  {
   "cell_type": "code",
   "execution_count": null,
   "id": "4ca90e9c",
   "metadata": {},
   "outputs": [],
   "source": []
  },
  {
   "cell_type": "markdown",
   "id": "518fa6bb",
   "metadata": {},
   "source": [
    "### Extract shipments data from Excel file"
   ]
  },
  {
   "cell_type": "markdown",
   "id": "0c776fc2",
   "metadata": {},
   "source": [
    "Extreu les dades de l'arxiu d'Excel i filtra:\n",
    "    \n",
    "    - Carrier == TNT\n",
    "    - Status != DELIVERED "
   ]
  },
  {
   "cell_type": "code",
   "execution_count": 2,
   "id": "325d3421",
   "metadata": {},
   "outputs": [
    {
     "name": "stdout",
     "output_type": "stream",
     "text": [
      "In your Excel file there are: \n",
      "- 72 IN TRANSIT \n",
      "- 8 EXCEPTION.\n"
     ]
    }
   ],
   "source": [
    "# Extract all data from Excel file\n",
    "shipment_data = pd.read_excel(f\"./Shipment_Data/Testsinmacro.xlsx\")\n",
    "\n",
    "# Filter data: subset where Carrier = \"TNT\" & Status != DELIVERED\n",
    "shipment_to_query = shipment_data[(shipment_data[\"Carrier\"] == \"TNT\")&(shipment_data[\"Status\"] != \"DELIVERED\")][[\"LOGIS ID\", \"Carrier\", \"T&T reference\", \"Status\"]]\n",
    "\n",
    "# Print count of current \"In Transit\" and \"Exception\" shipments in your Excel File\n",
    "shipment_in_transit = len(shipment_to_query[shipment_to_query[\"Status\"] == \"IN TRANSIT\"])\n",
    "shipment_exception = len(shipment_to_query[shipment_to_query[\"Status\"] == \"EXCEPTION\"])\n",
    "print(f\"In your Excel file there are: \\n- {shipment_in_transit} IN TRANSIT \\n- {shipment_exception} EXCEPTION.\")\n"
   ]
  },
  {
   "cell_type": "markdown",
   "id": "7947163b",
   "metadata": {},
   "source": [
    "Ara per treballar més ràpid, fem subset de 5 enviaments. Un cop acabat, caldrà eliminar aquesta propera línia de codi"
   ]
  },
  {
   "cell_type": "code",
   "execution_count": 3,
   "id": "24ff0374",
   "metadata": {},
   "outputs": [],
   "source": [
    "# DELETE ONCE IT WORKS, NOW SUBSET OF 5\n",
    "shipment_to_query = shipment_to_query[0:5]"
   ]
  },
  {
   "cell_type": "markdown",
   "id": "269c8edf",
   "metadata": {},
   "source": [
    "Ens assegurem que cada número d'enviament és únic, evitant multiplicar la cerca a la url. Aquest serà el llistat de \"números d'enviament\" que es consultaran."
   ]
  },
  {
   "cell_type": "code",
   "execution_count": 4,
   "id": "86a95605",
   "metadata": {},
   "outputs": [
    {
     "data": {
      "text/plain": [
       "{'607245928', 647005466, 647009701, 647024672, 647032271}"
      ]
     },
     "execution_count": 4,
     "metadata": {},
     "output_type": "execute_result"
    }
   ],
   "source": [
    "# Ensure each unique shipment is queried once by using set()\n",
    "unique_references = set(shipment_to_query['T&T reference'])\n",
    "\n",
    "# Després pots eliminar aquest proper print\n",
    "unique_references"
   ]
  },
  {
   "cell_type": "code",
   "execution_count": null,
   "id": "a7a84ecd",
   "metadata": {},
   "outputs": [],
   "source": []
  },
  {
   "cell_type": "markdown",
   "id": "65ad4a75",
   "metadata": {},
   "source": [
    "### Function to retrieve data from TNT web."
   ]
  },
  {
   "cell_type": "code",
   "execution_count": 5,
   "id": "93d121a6",
   "metadata": {},
   "outputs": [],
   "source": [
    "# Shipment Information Retrieval\n",
    "# This function, get_shipment_info, is responsible for retrieving detailed information about a shipment using its unique reference number.\n",
    "# It constructs the URL, sets up the ChromeDriver for Selenium, loads the page, and waits for dynamic content to load.\n",
    "# The page source is obtained using Selenium, and BeautifulSoup is employed for parsing.\n",
    "# Information such as shipment number, client reference, TNT status, shipment origin date, last update, last location, last action, and TNT exception notification is extracted.\n",
    "# The function returns a dictionary containing the extracted information. If the client reference does not start with \"DSD/\", None is returned.\n",
    "# The ChromeDriver is appropriately closed at the end of the function."
   ]
  },
  {
   "cell_type": "code",
   "execution_count": 6,
   "id": "202f9a25",
   "metadata": {},
   "outputs": [],
   "source": [
    "def get_shipment_info(ship_num):\n",
    "    \n",
    "    \"\"\"\n",
    "    Retrieves detailed information about a shipment.\n",
    "\n",
    "    Parameters:\n",
    "    - ship_num (str): The unique reference number of the shipment.\n",
    "\n",
    "    Returns:\n",
    "    dict: A dictionary containing shipment information, or None if the client reference does not start with \"DSD/\".\n",
    "    \"\"\"\n",
    "    \n",
    "    # Construct the URL with a single shipment number\n",
    "    url = f'https://www.tnt.com/express/es_es/site/herramientas-envio/seguimiento.html?searchType=con&cons={ship_num}'\n",
    "\n",
    "    # Set up the ChromeDriver (replace '/Users/albertlleidaestival/Downloads/chromedriver-mac-arm64/chromedriver' with the actual path)\n",
    "    #chrome_service = ChromeService(executable_path='/Users/albertlleidaestival/Downloads/chromedriver-mac-arm64/chromedriver')\n",
    "    chrome_service = ChromeService(executable_path='/Users/albertlleidaestival/Projects/TNT-Shipment-Tracker/ChromeDriver/chromedriver')\n",
    "\n",
    "    driver = webdriver.Chrome(service=chrome_service)\n",
    "\n",
    "    # Load the page\n",
    "    driver.get(url)\n",
    "\n",
    "    # Wait for a few seconds to allow dynamic content to load (you may need to adjust the wait time)\n",
    "    driver.implicitly_wait(5)\n",
    "\n",
    "    # Get the page source using Selenium\n",
    "    page_source = driver.page_source\n",
    "\n",
    "    # Use BeautifulSoup to parse the page source\n",
    "    soup = BeautifulSoup(page_source, 'html.parser')\n",
    "\n",
    "    \"\"\" Extract information\"\"\"\n",
    "    \n",
    "    # Shipment number & Client Reference\n",
    "    shipment_number = soup.select_one('dl:-soup-contains(\"Número de envío\") dd').get_text(strip=True)\n",
    "    client_reference = soup.select_one('div.__c-shipment__reference dl dd:nth-child(4)').get_text(strip=True)\n",
    "\n",
    "    # Return None if the client reference doesn't start with \"DSD/\"\n",
    "    if not client_reference.startswith(\"DSD/\"):\n",
    "        driver.quit()\n",
    "        return None\n",
    "\n",
    "    # TNT Status\n",
    "    tnt_status_element = soup.select_one('body > div.contentPageFullWidth.newBase.page.basicpage > div:nth-child(1) > div > pb-root > div > div > div > pb-track-trace > pb-search-results > div > pb-shipment > div > div.__c-shipment__details > sham-shipment-status > sham-shipment-status-tnt > div > div.__c-shipment-status-tnt__summary > sham-step-label > span')\n",
    "    tnt_status = tnt_status_element.get_text(strip=True) if tnt_status_element else None\n",
    "    \n",
    "    # Origin Date\n",
    "    shipment_origin_date_element = soup.select_one('div.__c-shipment-address--from div.__c-shipment-address__text div:nth-child(3) sham-shipment-origin-date')\n",
    "    shipment_origin_date = shipment_origin_date_element.get_text(strip=True) if shipment_origin_date_element else None\n",
    "\n",
    "    # Last update (Location&Action)\n",
    "    last_update = soup.select_one('div.__c-shipment__history sham-shipment-history table tbody tr:nth-child(1) td.__c-shipment-history__date').get_text(strip=True)\n",
    "    action_element = soup.select_one('div.__c-shipment__history sham-shipment-history table tbody tr:nth-child(1) td:nth-child(3)')\n",
    "    action_element = action_element.get_text(strip=True) if action_element else None\n",
    "\n",
    "    # Split action element (\"City - Description\")\n",
    "    if \"-\" in action_element:\n",
    "        last_location, last_action = action_element.split(\"-\", 1)\n",
    "    else:\n",
    "        last_location = last_action = None\n",
    "\n",
    "    # Check if error badge is present (EXCEPTION ALERT)\n",
    "    exception_badge = soup.select_one('div.__c-shipment__notification > sham-shipment-notification > sham-shipment-notification-tnt > div > div.__c-shipment-notification__content > h2')\n",
    "\n",
    "    if exception_badge:\n",
    "        # Get the content of the error notification\n",
    "        #exception_notification = exception_badge.get_text(strip=True) --> gets text from notification\n",
    "        exception_notification = \"EXCEPTION ALERT\"\n",
    "    else:\n",
    "        #exception_notification = None --> displays \"None\" as value\n",
    "        exception_notification = \" \" # --> \"empty\" cell\n",
    "\n",
    "    # Close the browser\n",
    "    driver.quit()\n",
    "\n",
    "    # Return a dictionary with the extracted information\n",
    "    return {\n",
    "        \"Shipment Number\": shipment_number,\n",
    "        \"Client Reference\": client_reference,\n",
    "        \"TNT Status\": tnt_status,\n",
    "        \"Shipment Origin Date\": shipment_origin_date,\n",
    "        \"Last Update\": last_update,\n",
    "        \"Last Location\": last_location,\n",
    "        \"Last Action\": last_action,\n",
    "        \"TNT Exception Notification\": exception_notification\n",
    "    }\n",
    "\n",
    "\n"
   ]
  },
  {
   "cell_type": "markdown",
   "id": "8977f29e",
   "metadata": {},
   "source": [
    "### Creating a new DataFrame with retrieved data"
   ]
  },
  {
   "cell_type": "code",
   "execution_count": 7,
   "id": "37127fcd",
   "metadata": {},
   "outputs": [],
   "source": [
    "# Create an empty list to store the results\n",
    "results = []\n",
    "\n",
    "# Iterate through each unique reference\n",
    "for ship_num in unique_references:\n",
    "    # Call the function with the individual reference\n",
    "    result = get_shipment_info(ship_num)\n",
    "    \n",
    "    # Check if the result is not None before appending to the list\n",
    "    if result is not None:\n",
    "        # Append the result to the list\n",
    "        results.append(result)\n",
    "\n",
    "# Create a DataFrame from the results\n",
    "df = pd.DataFrame(results)"
   ]
  },
  {
   "cell_type": "code",
   "execution_count": null,
   "id": "7b1eee49",
   "metadata": {},
   "outputs": [],
   "source": []
  },
  {
   "cell_type": "markdown",
   "id": "2ca7387c",
   "metadata": {},
   "source": [
    "### Process and format columns and values"
   ]
  },
  {
   "cell_type": "markdown",
   "id": "794c5ed4",
   "metadata": {},
   "source": [
    "Aquí donarem el mateix format a les dates en les diverses columnes"
   ]
  },
  {
   "cell_type": "code",
   "execution_count": 8,
   "id": "96f9303b",
   "metadata": {},
   "outputs": [],
   "source": [
    "# Mapping of Spanish month names to English month names\n",
    "month_mapping = {\n",
    "    'enero': 'January',\n",
    "    'febrero': 'February',\n",
    "    'marzo': 'March',\n",
    "    'abril': 'April',\n",
    "    'mayo': 'May',\n",
    "    'junio': 'June',\n",
    "    'julio': 'July',\n",
    "    'agosto': 'August',\n",
    "    'septiembre': 'September',\n",
    "    'octubre': 'October',\n",
    "    'noviembre': 'November',\n",
    "    'diciembre': 'December'\n",
    "}\n",
    "\n",
    "# Apply the conversion to the 'Shipment Origin Date' column\n",
    "df['Shipment Origin Date'] = df['Shipment Origin Date'].replace(month_mapping, regex=True).apply(\n",
    "    lambda x: datetime.strptime(x, \"%d de %B de %Y\").strftime(\"%d/%m/%Y\")\n",
    ")\n",
    "\n",
    "# Change format\n",
    "df['Shipment Origin Date'] = pd.to_datetime(df['Shipment Origin Date'], format=\"%d/%m/%Y\")\n",
    "df['Last Update'] = pd.to_datetime(df['Last Update'], format=\"%d/%m/%y %H:%M\", errors='coerce')\n"
   ]
  },
  {
   "cell_type": "markdown",
   "id": "71882e3f",
   "metadata": {},
   "source": [
    "I afegirem la columna \"Processing Days\" per saber els dies que porta gestionat per TNT.\n",
    "    \n",
    "    - Si ja ha estat \"Entregado\", es calcularà amb la data de l'últim update - la data original.\n",
    "    - Si no ha estat \"Entregado, es calcularà amb la data actual - la data original\n",
    "    "
   ]
  },
  {
   "cell_type": "code",
   "execution_count": 9,
   "id": "70846915",
   "metadata": {},
   "outputs": [],
   "source": [
    "# Create a new column 'Processing Days'\n",
    "df['Processing Days'] = None\n",
    "\n",
    "# Iterate through each row\n",
    "for index, row in df.iterrows():\n",
    "    if row['TNT Status'] != \"Entregado\":\n",
    "        # Calculate processing time for non-delivered shipments\n",
    "        current_date = datetime.now().replace(microsecond=0)\n",
    "        processing_time = current_date - row['Shipment Origin Date']\n",
    "    else:\n",
    "        # For delivered shipments, use 'Last Update'\n",
    "        processing_time = row['Last Update'] - row['Shipment Origin Date']\n",
    "\n",
    "    # Format processing time to display only days, months, and years\n",
    "    days, seconds = processing_time.days, processing_time.seconds\n",
    "    formatted_processing_time = timedelta(days=days, seconds=seconds)\n",
    "\n",
    "    # Assign the formatted processing time to the 'Processing Days' column\n",
    "    df.at[index, 'Processing Days'] = formatted_processing_time"
   ]
  },
  {
   "cell_type": "markdown",
   "id": "498acd6d",
   "metadata": {},
   "source": [
    "Ens assegurem que les dates estan en el format desitjat"
   ]
  },
  {
   "cell_type": "code",
   "execution_count": 10,
   "id": "0d53502e",
   "metadata": {},
   "outputs": [],
   "source": [
    "# Format 'Last Update' and 'Processing Days' to the desired format\n",
    "df['Last Update'] = df['Last Update'].dt.strftime('%d/%m/%y %H:%M')\n",
    "df['Processing Days'] = df['Processing Days'].astype(str).str.extract(r'(\\d+ days)').squeeze()\n",
    "\n",
    "# Display the updated DataFrame with the desired date format and column name\n",
    "df['Shipment Origin Date'] = df['Shipment Origin Date'].dt.strftime('%d/%m/%y')"
   ]
  },
  {
   "cell_type": "markdown",
   "id": "29eceff7",
   "metadata": {},
   "source": [
    "Reordenem les columnes"
   ]
  },
  {
   "cell_type": "code",
   "execution_count": 11,
   "id": "a01bb275",
   "metadata": {},
   "outputs": [],
   "source": [
    "# Rearrange DataFrame in the desired order\n",
    "df = df[['Shipment Number', 'Client Reference', 'TNT Status', 'Shipment Origin Date', 'Processing Days', 'Last Update', 'Last Location', 'Last Action', 'TNT Exception Notification']]"
   ]
  },
  {
   "cell_type": "markdown",
   "id": "d572ce75",
   "metadata": {},
   "source": [
    "Donem format al nom de l'arxiu que guardarem amb el nou DataFrame i definim la carpeta de descàrrega"
   ]
  },
  {
   "cell_type": "code",
   "execution_count": 12,
   "id": "ad420647",
   "metadata": {},
   "outputs": [],
   "source": [
    "# Format file name as \"TNT Track Report + datetime\"\n",
    "current_datetime = datetime.now().strftime(\"%d-%m-%Y %H_%M_%S\")\n",
    "excel_filename = f\"TNT Track Report {current_datetime}.xlsx\"\n",
    "\n",
    "# Specify the folder path\n",
    "folder_path = \"./TNT Track Reports\"\n",
    "\n",
    "# Create the full path for saving the file\n",
    "full_path = os.path.join(folder_path, excel_filename)\n",
    "\n",
    "# Save the DataFrame to Excel\n",
    "df.to_excel(full_path, index=False)"
   ]
  },
  {
   "cell_type": "code",
   "execution_count": null,
   "id": "b07c1014",
   "metadata": {},
   "outputs": [],
   "source": []
  },
  {
   "cell_type": "markdown",
   "id": "f2e0f96a",
   "metadata": {},
   "source": [
    "### TNT Shipment Track Report"
   ]
  },
  {
   "cell_type": "code",
   "execution_count": 13,
   "id": "5bc3b3c0",
   "metadata": {},
   "outputs": [
    {
     "data": {
      "text/html": [
       "<div>\n",
       "<style scoped>\n",
       "    .dataframe tbody tr th:only-of-type {\n",
       "        vertical-align: middle;\n",
       "    }\n",
       "\n",
       "    .dataframe tbody tr th {\n",
       "        vertical-align: top;\n",
       "    }\n",
       "\n",
       "    .dataframe thead th {\n",
       "        text-align: right;\n",
       "    }\n",
       "</style>\n",
       "<table border=\"1\" class=\"dataframe\">\n",
       "  <thead>\n",
       "    <tr style=\"text-align: right;\">\n",
       "      <th></th>\n",
       "      <th>Shipment Number</th>\n",
       "      <th>Client Reference</th>\n",
       "      <th>TNT Status</th>\n",
       "      <th>Shipment Origin Date</th>\n",
       "      <th>Processing Days</th>\n",
       "      <th>Last Update</th>\n",
       "      <th>Last Location</th>\n",
       "      <th>Last Action</th>\n",
       "      <th>TNT Exception Notification</th>\n",
       "    </tr>\n",
       "  </thead>\n",
       "  <tbody>\n",
       "    <tr>\n",
       "      <th>0</th>\n",
       "      <td>647024672</td>\n",
       "      <td>DSD/134280</td>\n",
       "      <td>En tránsito</td>\n",
       "      <td>13/11/23</td>\n",
       "      <td>8 days</td>\n",
       "      <td>20/11/23 12:30</td>\n",
       "      <td>Verona</td>\n",
       "      <td>El envío ha llegado a la ubicación de TNT</td>\n",
       "      <td></td>\n",
       "    </tr>\n",
       "    <tr>\n",
       "      <th>1</th>\n",
       "      <td>647009701</td>\n",
       "      <td>DSD/130516</td>\n",
       "      <td>En tránsito</td>\n",
       "      <td>06/11/23</td>\n",
       "      <td>15 days</td>\n",
       "      <td>14/11/23 09:22</td>\n",
       "      <td>Gerzat</td>\n",
       "      <td>Devuelto al remitente según lo acordado</td>\n",
       "      <td>EXCEPTION ALERT</td>\n",
       "    </tr>\n",
       "    <tr>\n",
       "      <th>2</th>\n",
       "      <td>607245928</td>\n",
       "      <td>DSD/119006</td>\n",
       "      <td>Entregado</td>\n",
       "      <td>06/10/23</td>\n",
       "      <td>3 days</td>\n",
       "      <td>09/10/23 10:19</td>\n",
       "      <td>Mions</td>\n",
       "      <td>Envío entregado en buen estado</td>\n",
       "      <td></td>\n",
       "    </tr>\n",
       "    <tr>\n",
       "      <th>3</th>\n",
       "      <td>647032271</td>\n",
       "      <td>DSD/136108</td>\n",
       "      <td>Entregado</td>\n",
       "      <td>15/11/23</td>\n",
       "      <td>5 days</td>\n",
       "      <td>20/11/23 14:10</td>\n",
       "      <td>Sorgues</td>\n",
       "      <td>Envío entregado en buen estado</td>\n",
       "      <td></td>\n",
       "    </tr>\n",
       "    <tr>\n",
       "      <th>4</th>\n",
       "      <td>647005466</td>\n",
       "      <td>DSD/123746</td>\n",
       "      <td>En tránsito</td>\n",
       "      <td>03/11/23</td>\n",
       "      <td>18 days</td>\n",
       "      <td>14/11/23 15:09</td>\n",
       "      <td>Sarajevo</td>\n",
       "      <td>Devuelto al remitente según lo acordado</td>\n",
       "      <td>EXCEPTION ALERT</td>\n",
       "    </tr>\n",
       "  </tbody>\n",
       "</table>\n",
       "</div>"
      ],
      "text/plain": [
       "  Shipment Number Client Reference   TNT Status Shipment Origin Date  \\\n",
       "0       647024672       DSD/134280  En tránsito             13/11/23   \n",
       "1       647009701       DSD/130516  En tránsito             06/11/23   \n",
       "2       607245928       DSD/119006    Entregado             06/10/23   \n",
       "3       647032271       DSD/136108    Entregado             15/11/23   \n",
       "4       647005466       DSD/123746  En tránsito             03/11/23   \n",
       "\n",
       "  Processing Days     Last Update Last Location  \\\n",
       "0          8 days  20/11/23 12:30       Verona    \n",
       "1         15 days  14/11/23 09:22       Gerzat    \n",
       "2          3 days  09/10/23 10:19        Mions    \n",
       "3          5 days  20/11/23 14:10      Sorgues    \n",
       "4         18 days  14/11/23 15:09     Sarajevo    \n",
       "\n",
       "                                 Last Action TNT Exception Notification  \n",
       "0  El envío ha llegado a la ubicación de TNT                             \n",
       "1    Devuelto al remitente según lo acordado            EXCEPTION ALERT  \n",
       "2             Envío entregado en buen estado                             \n",
       "3             Envío entregado en buen estado                             \n",
       "4    Devuelto al remitente según lo acordado            EXCEPTION ALERT  "
      ]
     },
     "execution_count": 13,
     "metadata": {},
     "output_type": "execute_result"
    }
   ],
   "source": [
    "# Display the updated DataFrame\n",
    "df"
   ]
  },
  {
   "cell_type": "code",
   "execution_count": null,
   "id": "8d74bc07",
   "metadata": {},
   "outputs": [],
   "source": []
  }
 ],
 "metadata": {
  "kernelspec": {
   "display_name": "Python 3 (ipykernel)",
   "language": "python",
   "name": "python3"
  },
  "language_info": {
   "codemirror_mode": {
    "name": "ipython",
    "version": 3
   },
   "file_extension": ".py",
   "mimetype": "text/x-python",
   "name": "python",
   "nbconvert_exporter": "python",
   "pygments_lexer": "ipython3",
   "version": "3.9.13"
  }
 },
 "nbformat": 4,
 "nbformat_minor": 5
}
