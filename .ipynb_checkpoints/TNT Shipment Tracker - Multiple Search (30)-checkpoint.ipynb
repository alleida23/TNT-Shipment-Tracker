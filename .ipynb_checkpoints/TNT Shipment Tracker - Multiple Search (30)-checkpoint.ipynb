{
 "cells": [
  {
   "cell_type": "markdown",
   "id": "d74b36e9",
   "metadata": {},
   "source": [
    "## TNT Shipment Tracker - Multiple Search (30)"
   ]
  },
  {
   "cell_type": "code",
   "execution_count": null,
   "id": "a6bca4c5",
   "metadata": {},
   "outputs": [],
   "source": []
  },
  {
   "cell_type": "markdown",
   "id": "fd7d9477",
   "metadata": {},
   "source": [
    "### Import required Python libraries and modules"
   ]
  },
  {
   "cell_type": "code",
   "execution_count": 1,
   "id": "08638e20",
   "metadata": {},
   "outputs": [],
   "source": [
    "import pandas as pd\n",
    "from selenium import webdriver\n",
    "from selenium.webdriver.chrome.service import Service as ChromeService\n",
    "from selenium.webdriver.chrome.options import Options\n",
    "from bs4 import BeautifulSoup\n",
    "from datetime import datetime, timedelta\n",
    "import os\n",
    "from IPython.display import display, Markdown, HTML\n",
    "import matplotlib.pyplot as plt\n",
    "import seaborn as sns"
   ]
  },
  {
   "cell_type": "code",
   "execution_count": null,
   "id": "b317588d",
   "metadata": {},
   "outputs": [],
   "source": []
  },
  {
   "cell_type": "markdown",
   "id": "8aa4a04a",
   "metadata": {},
   "source": [
    "### Set paths to files"
   ]
  },
  {
   "cell_type": "markdown",
   "id": "6bc8665a",
   "metadata": {},
   "source": [
    "Especifica les rutes d'accés per les següents variables:\n",
    "(per més eficiència t'ho poso tot aquí al principi per no haver d'anar amunt i avall)"
   ]
  },
  {
   "cell_type": "code",
   "execution_count": 2,
   "id": "b5a808a9",
   "metadata": {},
   "outputs": [],
   "source": [
    "# Path to your Tests macro excel file\n",
    "excel_tests_file_path = \"./Shipment_Data/Testsinmacro_2.xlsx\"\n",
    "\n",
    "# Path to your Chromedriver\n",
    "chromedriver_path='/Users/albertlleidaestival/Projects/TNT-Shipment-Tracker/ChromeDriver/chromedriver-mac-arm64/chromedriver'\n",
    "\n",
    "# Path to the folder where you want to save the report file\n",
    "folder_save_to_excel_path = \"./TNT Track Reports\""
   ]
  },
  {
   "cell_type": "code",
   "execution_count": null,
   "id": "4ca90e9c",
   "metadata": {},
   "outputs": [],
   "source": []
  },
  {
   "cell_type": "markdown",
   "id": "518fa6bb",
   "metadata": {},
   "source": [
    "### Extract shipments data from Excel file and create chunked url (up 30 shipment numbers)"
   ]
  },
  {
   "cell_type": "markdown",
   "id": "0c776fc2",
   "metadata": {},
   "source": [
    "Importarem la funció del document **functions_extract.py**.\n",
    "\n",
    "Funció **extract_and_create_urls**:\n",
    "\n",
    "- Primer, extreu les dades de l'arxiu Tests macro d'excel i les filtra per Carrier = TNT i Status != DELIVERED.\n",
    "\n",
    "- Després crea un llistat dels números d'enviaments (únics), els agrupa de 30 en 30 i construeix les urls que es consultaràn a la web de TNT.   "
   ]
  },
  {
   "cell_type": "code",
   "execution_count": 3,
   "id": "e4fcd2cd",
   "metadata": {},
   "outputs": [],
   "source": [
    "# Import customized functions from functions_extract.py file\n",
    "from functions_extract import extract_and_create_urls"
   ]
  },
  {
   "cell_type": "code",
   "execution_count": 4,
   "id": "30205c46",
   "metadata": {},
   "outputs": [
    {
     "data": {
      "text/markdown": [
       "In your Excel file there are **111 UNIQUE** shipment numbers (**106 IN TRANSIT and 5 EXCEPTION**). "
      ],
      "text/plain": [
       "<IPython.core.display.Markdown object>"
      ]
     },
     "metadata": {},
     "output_type": "display_data"
    },
    {
     "data": {
      "text/markdown": [
       "Total **up-to-30-shipm-num groups** to be consulted: **4**"
      ],
      "text/plain": [
       "<IPython.core.display.Markdown object>"
      ]
     },
     "metadata": {},
     "output_type": "display_data"
    },
    {
     "data": {
      "text/markdown": [
       "**Linkable URLs**: "
      ],
      "text/plain": [
       "<IPython.core.display.Markdown object>"
      ]
     },
     "metadata": {},
     "output_type": "display_data"
    },
    {
     "data": {
      "text/plain": [
       "'1. https://www.tnt.com/express/es_es/site/herramientas-envio/seguimiento.html?searchType=con&cons=607245928,607245931,607245945,607245959,607245980,607247521,607247685,607247711,607248164,607248368,607248399,607248487,607249584,607250021,607250239,607250344,607250551,607251089,607251512,607251526,607251574,607251591,607251764,607251778,607251804,607251870,607252040,607252190,607252274,607252380\\n'"
      ]
     },
     "metadata": {},
     "output_type": "display_data"
    },
    {
     "data": {
      "text/plain": [
       "'2. https://www.tnt.com/express/es_es/site/herramientas-envio/seguimiento.html?searchType=con&cons=607252464,607252478,607252481,607252495,607252549,607252570,607252583,607252610,607252623,607252685,607252756,607252773,607252827,607252932,607252950,607252963,607253045,607253147,607253178,607253266,607253306,607253354,607253385,607253408,607253411,607253527,607253544,607253558,607253615,607253629\\n'"
      ]
     },
     "metadata": {},
     "output_type": "display_data"
    },
    {
     "data": {
      "text/plain": [
       "'3. https://www.tnt.com/express/es_es/site/herramientas-envio/seguimiento.html?searchType=con&cons=607253646,607253677,607253694,607253748,607253751,607253782,607253924,607253941,607253955,607253969,607253986,607253990,607254006,607254010,607254023,607254037,607254045,607254054,607254085,607254099,607254108,607254111,607254125,607254139,607254142,607254156,607254160,607254173,607254187,607254195\\n'"
      ]
     },
     "metadata": {},
     "output_type": "display_data"
    },
    {
     "data": {
      "text/plain": [
       "'4. https://www.tnt.com/express/es_es/site/herramientas-envio/seguimiento.html?searchType=con&cons=607254200,607254227,607254235,607254244,607254258,607254275,607254289,607254292,607254301,607254315,607254329,607254332,607254346,607254350,607254363,607254377,607254385,607254394,607254403,607254417,607254425\\n'"
      ]
     },
     "metadata": {},
     "output_type": "display_data"
    }
   ],
   "source": [
    "# Call function extract_and_create_urls\n",
    "url_list = extract_and_create_urls(excel_tests_file_path)"
   ]
  },
  {
   "cell_type": "markdown",
   "id": "2d00e3a7",
   "metadata": {},
   "source": [
    "### Web Scraping TNT"
   ]
  },
  {
   "cell_type": "markdown",
   "id": "495d7c32",
   "metadata": {},
   "source": [
    "Importarem les funcions ara del document **functions_web_scraping.py**.\n",
    "\n",
    "- **Scrape_structure_from_urls**: guarda en la variable all_shipment_divs tota la informació de cada url consultada."
   ]
  },
  {
   "cell_type": "code",
   "execution_count": 5,
   "id": "ddd6f330",
   "metadata": {},
   "outputs": [],
   "source": [
    "# Import customized functions from functions_web_scraping.py file\n",
    "from functions_web_scraping import scrape_structure_from_urls, scrape_shipment_data"
   ]
  },
  {
   "cell_type": "code",
   "execution_count": 6,
   "id": "0b39fdce",
   "metadata": {},
   "outputs": [],
   "source": [
    "# Call function scrape_structure_from_urls\n",
    "all_shipment_divs = scrape_structure_from_urls(url_list, chromedriver_path)"
   ]
  },
  {
   "cell_type": "code",
   "execution_count": 7,
   "id": "e6ac8fc1",
   "metadata": {},
   "outputs": [
    {
     "data": {
      "text/html": [
       "<div>\n",
       "<style scoped>\n",
       "    .dataframe tbody tr th:only-of-type {\n",
       "        vertical-align: middle;\n",
       "    }\n",
       "\n",
       "    .dataframe tbody tr th {\n",
       "        vertical-align: top;\n",
       "    }\n",
       "\n",
       "    .dataframe thead th {\n",
       "        text-align: right;\n",
       "    }\n",
       "</style>\n",
       "<table border=\"1\" class=\"dataframe\">\n",
       "  <thead>\n",
       "    <tr style=\"text-align: right;\">\n",
       "      <th></th>\n",
       "      <th>Client Reference</th>\n",
       "      <th>Shipment Number</th>\n",
       "      <th>TNT Status</th>\n",
       "      <th>Shipment Origin Date</th>\n",
       "      <th>Shipment Destination</th>\n",
       "      <th>Last Update</th>\n",
       "      <th>Last Location</th>\n",
       "      <th>Last Action</th>\n",
       "      <th>TNT Exception Notification</th>\n",
       "    </tr>\n",
       "  </thead>\n",
       "  <tbody>\n",
       "    <tr>\n",
       "      <th>0</th>\n",
       "      <td>DSD/121190</td>\n",
       "      <td>607252040</td>\n",
       "      <td>En entrega</td>\n",
       "      <td>18 de octubre de 2023</td>\n",
       "      <td>Laval,  France</td>\n",
       "      <td>20/10/23 14:53</td>\n",
       "      <td>Change</td>\n",
       "      <td>El envío está en camino.</td>\n",
       "      <td></td>\n",
       "    </tr>\n",
       "    <tr>\n",
       "      <th>1</th>\n",
       "      <td>DSD/120004</td>\n",
       "      <td>607247685</td>\n",
       "      <td>En tránsito</td>\n",
       "      <td>16 de octubre de 2023</td>\n",
       "      <td>Lahonce,  France</td>\n",
       "      <td>18/10/23 13:57</td>\n",
       "      <td></td>\n",
       "      <td>Envío retrasado en tránsito. Acciones de recup...</td>\n",
       "      <td>EXCEPTION ALERT</td>\n",
       "    </tr>\n",
       "    <tr>\n",
       "      <th>2</th>\n",
       "      <td>DSD/120754</td>\n",
       "      <td>607250021</td>\n",
       "      <td>En tránsito</td>\n",
       "      <td>17 de octubre de 2023</td>\n",
       "      <td>La Ferriere,  France</td>\n",
       "      <td>19/10/23 22:48</td>\n",
       "      <td></td>\n",
       "      <td>Envío retrasado en tránsito. Acciones de recup...</td>\n",
       "      <td>EXCEPTION ALERT</td>\n",
       "    </tr>\n",
       "    <tr>\n",
       "      <th>3</th>\n",
       "      <td>DSD/120830</td>\n",
       "      <td>607250344</td>\n",
       "      <td>En tránsito</td>\n",
       "      <td>17 de octubre de 2023</td>\n",
       "      <td>Fonbeauzard,  France</td>\n",
       "      <td>18/10/23 8:55</td>\n",
       "      <td></td>\n",
       "      <td>Envío retrasado en tránsito. Acciones de recup...</td>\n",
       "      <td>EXCEPTION ALERT</td>\n",
       "    </tr>\n",
       "    <tr>\n",
       "      <th>4</th>\n",
       "      <td>DSD/120206</td>\n",
       "      <td>607248164</td>\n",
       "      <td>En tránsito</td>\n",
       "      <td>16 de octubre de 2023</td>\n",
       "      <td>Lahonce,  France</td>\n",
       "      <td>26/10/23 7:34</td>\n",
       "      <td>Blagnac</td>\n",
       "      <td>El envío llegó al punto de conexión</td>\n",
       "      <td></td>\n",
       "    </tr>\n",
       "  </tbody>\n",
       "</table>\n",
       "</div>"
      ],
      "text/plain": [
       "  Client Reference Shipment Number   TNT Status   Shipment Origin Date  \\\n",
       "0       DSD/121190       607252040   En entrega  18 de octubre de 2023   \n",
       "1       DSD/120004       607247685  En tránsito  16 de octubre de 2023   \n",
       "2       DSD/120754       607250021  En tránsito  17 de octubre de 2023   \n",
       "3       DSD/120830       607250344  En tránsito  17 de octubre de 2023   \n",
       "4       DSD/120206       607248164  En tránsito  16 de octubre de 2023   \n",
       "\n",
       "   Shipment Destination     Last Update Last Location  \\\n",
       "0        Laval,  France  20/10/23 14:53        Change   \n",
       "1      Lahonce,  France  18/10/23 13:57                 \n",
       "2  La Ferriere,  France  19/10/23 22:48                 \n",
       "3  Fonbeauzard,  France   18/10/23 8:55                 \n",
       "4      Lahonce,  France   26/10/23 7:34       Blagnac   \n",
       "\n",
       "                                         Last Action  \\\n",
       "0                           El envío está en camino.   \n",
       "1  Envío retrasado en tránsito. Acciones de recup...   \n",
       "2  Envío retrasado en tránsito. Acciones de recup...   \n",
       "3  Envío retrasado en tránsito. Acciones de recup...   \n",
       "4                El envío llegó al punto de conexión   \n",
       "\n",
       "  TNT Exception Notification  \n",
       "0                             \n",
       "1            EXCEPTION ALERT  \n",
       "2            EXCEPTION ALERT  \n",
       "3            EXCEPTION ALERT  \n",
       "4                             "
      ]
     },
     "metadata": {},
     "output_type": "display_data"
    },
    {
     "data": {
      "text/html": [
       "<div>\n",
       "<style scoped>\n",
       "    .dataframe tbody tr th:only-of-type {\n",
       "        vertical-align: middle;\n",
       "    }\n",
       "\n",
       "    .dataframe tbody tr th {\n",
       "        vertical-align: top;\n",
       "    }\n",
       "\n",
       "    .dataframe thead th {\n",
       "        text-align: right;\n",
       "    }\n",
       "</style>\n",
       "<table border=\"1\" class=\"dataframe\">\n",
       "  <thead>\n",
       "    <tr style=\"text-align: right;\">\n",
       "      <th></th>\n",
       "      <th>Client Reference</th>\n",
       "      <th>Shipment Number</th>\n",
       "      <th>TNT Status</th>\n",
       "      <th>Shipment Origin Date</th>\n",
       "      <th>Shipment Destination</th>\n",
       "      <th>Last Update</th>\n",
       "      <th>Last Location</th>\n",
       "      <th>Last Action</th>\n",
       "      <th>TNT Exception Notification</th>\n",
       "    </tr>\n",
       "  </thead>\n",
       "  <tbody>\n",
       "    <tr>\n",
       "      <th>106</th>\n",
       "      <td>DSD/121662</td>\n",
       "      <td>607254292</td>\n",
       "      <td>Entregado</td>\n",
       "      <td>19 de octubre de 2023</td>\n",
       "      <td>Tonneins,  France</td>\n",
       "      <td>23/10/23 10:50</td>\n",
       "      <td>Le Passage</td>\n",
       "      <td>Envío entregado en buen estado</td>\n",
       "      <td></td>\n",
       "    </tr>\n",
       "    <tr>\n",
       "      <th>107</th>\n",
       "      <td>DSD/121682</td>\n",
       "      <td>607254417</td>\n",
       "      <td>Entregado</td>\n",
       "      <td>19 de octubre de 2023</td>\n",
       "      <td>Sarlat La Caneda,  France</td>\n",
       "      <td>23/10/23 11:20</td>\n",
       "      <td>Marsac Sur L Isle</td>\n",
       "      <td>Envío entregado en buen estado</td>\n",
       "      <td></td>\n",
       "    </tr>\n",
       "    <tr>\n",
       "      <th>108</th>\n",
       "      <td>DSD/121648</td>\n",
       "      <td>607254332</td>\n",
       "      <td>Entregado</td>\n",
       "      <td>19 de octubre de 2023</td>\n",
       "      <td>Valenton,  France</td>\n",
       "      <td>23/10/23 15:43</td>\n",
       "      <td>Creteil</td>\n",
       "      <td>Envío entregado en buen estado</td>\n",
       "      <td></td>\n",
       "    </tr>\n",
       "    <tr>\n",
       "      <th>109</th>\n",
       "      <td>DSD/121652</td>\n",
       "      <td>607254235</td>\n",
       "      <td>Entregado</td>\n",
       "      <td>19 de octubre de 2023</td>\n",
       "      <td>Ales,  France</td>\n",
       "      <td>24/10/23 8:28</td>\n",
       "      <td>Nimes</td>\n",
       "      <td>Envío entregado en buen estado</td>\n",
       "      <td></td>\n",
       "    </tr>\n",
       "    <tr>\n",
       "      <th>110</th>\n",
       "      <td>DSD/121684</td>\n",
       "      <td>607254425</td>\n",
       "      <td>Entregado</td>\n",
       "      <td>19 de octubre de 2023</td>\n",
       "      <td>Furiani,  France</td>\n",
       "      <td>24/10/23 12:47</td>\n",
       "      <td>Borgo</td>\n",
       "      <td>Envío entregado en buen estado</td>\n",
       "      <td></td>\n",
       "    </tr>\n",
       "  </tbody>\n",
       "</table>\n",
       "</div>"
      ],
      "text/plain": [
       "    Client Reference Shipment Number TNT Status   Shipment Origin Date  \\\n",
       "106       DSD/121662       607254292  Entregado  19 de octubre de 2023   \n",
       "107       DSD/121682       607254417  Entregado  19 de octubre de 2023   \n",
       "108       DSD/121648       607254332  Entregado  19 de octubre de 2023   \n",
       "109       DSD/121652       607254235  Entregado  19 de octubre de 2023   \n",
       "110       DSD/121684       607254425  Entregado  19 de octubre de 2023   \n",
       "\n",
       "          Shipment Destination     Last Update      Last Location  \\\n",
       "106          Tonneins,  France  23/10/23 10:50         Le Passage   \n",
       "107  Sarlat La Caneda,  France  23/10/23 11:20  Marsac Sur L Isle   \n",
       "108          Valenton,  France  23/10/23 15:43            Creteil   \n",
       "109              Ales,  France   24/10/23 8:28              Nimes   \n",
       "110           Furiani,  France  24/10/23 12:47              Borgo   \n",
       "\n",
       "                        Last Action TNT Exception Notification  \n",
       "106  Envío entregado en buen estado                             \n",
       "107  Envío entregado en buen estado                             \n",
       "108  Envío entregado en buen estado                             \n",
       "109  Envío entregado en buen estado                             \n",
       "110  Envío entregado en buen estado                             "
      ]
     },
     "metadata": {},
     "output_type": "display_data"
    },
    {
     "name": "stdout",
     "output_type": "stream",
     "text": [
      "<class 'pandas.core.frame.DataFrame'>\n",
      "RangeIndex: 111 entries, 0 to 110\n",
      "Data columns (total 9 columns):\n",
      " #   Column                      Non-Null Count  Dtype \n",
      "---  ------                      --------------  ----- \n",
      " 0   Client Reference            111 non-null    object\n",
      " 1   Shipment Number             111 non-null    object\n",
      " 2   TNT Status                  111 non-null    object\n",
      " 3   Shipment Origin Date        111 non-null    object\n",
      " 4   Shipment Destination        111 non-null    object\n",
      " 5   Last Update                 111 non-null    object\n",
      " 6   Last Location               111 non-null    object\n",
      " 7   Last Action                 111 non-null    object\n",
      " 8   TNT Exception Notification  111 non-null    object\n",
      "dtypes: object(9)\n",
      "memory usage: 7.9+ KB\n"
     ]
    },
    {
     "data": {
      "text/plain": [
       "None"
      ]
     },
     "metadata": {},
     "output_type": "display_data"
    }
   ],
   "source": [
    "# Call function scrape_shipment_data\n",
    "df = scrape_shipment_data(all_shipment_divs)\n",
    "\n",
    "# Print first output\n",
    "display(df.head(), df.tail())\n",
    "display(df.info())"
   ]
  },
  {
   "cell_type": "code",
   "execution_count": null,
   "id": "1c7c2b05",
   "metadata": {},
   "outputs": [],
   "source": []
  },
  {
   "cell_type": "markdown",
   "id": "07298df0",
   "metadata": {},
   "source": [
    "### Process and transform original DataFrame"
   ]
  },
  {
   "cell_type": "code",
   "execution_count": 8,
   "id": "f9ab01f2",
   "metadata": {},
   "outputs": [],
   "source": [
    "# Create a copy of the DataFrame to perform changes\n",
    "processed_df = df.copy()"
   ]
  },
  {
   "cell_type": "markdown",
   "id": "0cc12023",
   "metadata": {},
   "source": [
    "Importarem les funcions des de **functions_process_df.py**.\n",
    "\n",
    "- **global_df_transformations**: engloba i aplica totes les funcions \"menors\" que modifiquen els tipus i formats dels valors, així com l'estructura de les columnes i el mateix dataframe. Segueix la següent lògica:\n",
    "\n",
    "     1. processed_df = convert_shipment_origin_date(processed_df)\n",
    "     2. processed_df = process_last_update_column(processed_df)\n",
    "     3. processed_df = calculate_processing_days(processed_df)\n",
    "     4. processed_df = format_dates_and_processing_days(processed_df)\n",
    "     5. processed_df, excel_file_path = rearrange_columns_and_save_to_excel(processed_df,folder_save_to_excel_path)"
   ]
  },
  {
   "cell_type": "code",
   "execution_count": 9,
   "id": "824dff94",
   "metadata": {},
   "outputs": [],
   "source": [
    "# Import customized functions from functions_process.py file\n",
    "from functions_process_df import convert_shipment_origin_date, process_last_update_column\n",
    "from functions_process_df import calculate_processing_days, format_dates_and_processing_days\n",
    "from functions_process_df import rearrange_columns_and_save_to_excel, global_df_transformation"
   ]
  },
  {
   "cell_type": "code",
   "execution_count": 10,
   "id": "e8b7d09e",
   "metadata": {},
   "outputs": [
    {
     "name": "stdout",
     "output_type": "stream",
     "text": [
      "Excel file saved at: ./TNT Track Reports/TNT Track Report 27-11-2023 17_05_25.xlsx\n",
      "Global processing completed. Excel file saved at: ./TNT Track Reports/TNT Track Report 27-11-2023 17_05_25.xlsx\n"
     ]
    }
   ],
   "source": [
    "# Apply the function global_df_transformations\n",
    "processed_df, excel_file_path = global_df_transformation(df, folder_save_to_excel_path)"
   ]
  },
  {
   "cell_type": "code",
   "execution_count": null,
   "id": "4ba9d2bd",
   "metadata": {},
   "outputs": [],
   "source": []
  },
  {
   "cell_type": "markdown",
   "id": "f2e0f96a",
   "metadata": {},
   "source": [
    "### TNT Shipment Track Report"
   ]
  },
  {
   "cell_type": "code",
   "execution_count": 11,
   "id": "6793c99d",
   "metadata": {},
   "outputs": [
    {
     "data": {
      "text/html": [
       "<div>\n",
       "<style scoped>\n",
       "    .dataframe tbody tr th:only-of-type {\n",
       "        vertical-align: middle;\n",
       "    }\n",
       "\n",
       "    .dataframe tbody tr th {\n",
       "        vertical-align: top;\n",
       "    }\n",
       "\n",
       "    .dataframe thead th {\n",
       "        text-align: right;\n",
       "    }\n",
       "</style>\n",
       "<table border=\"1\" class=\"dataframe\">\n",
       "  <thead>\n",
       "    <tr style=\"text-align: right;\">\n",
       "      <th></th>\n",
       "      <th>Client Reference</th>\n",
       "      <th>Shipment Number</th>\n",
       "      <th>TNT Status</th>\n",
       "      <th>Shipment Origin Date</th>\n",
       "      <th>Shipment Destination</th>\n",
       "      <th>Processing Days</th>\n",
       "      <th>Last Update</th>\n",
       "      <th>Last Location</th>\n",
       "      <th>Last Action</th>\n",
       "      <th>TNT Exception Notification</th>\n",
       "    </tr>\n",
       "  </thead>\n",
       "  <tbody>\n",
       "    <tr>\n",
       "      <th>0</th>\n",
       "      <td>DSD/121190</td>\n",
       "      <td>607252040</td>\n",
       "      <td>En entrega</td>\n",
       "      <td>18/10/23</td>\n",
       "      <td>Laval,  France</td>\n",
       "      <td>40 days</td>\n",
       "      <td>20/10/23</td>\n",
       "      <td>Change</td>\n",
       "      <td>El envío está en camino.</td>\n",
       "      <td></td>\n",
       "    </tr>\n",
       "    <tr>\n",
       "      <th>1</th>\n",
       "      <td>DSD/120004</td>\n",
       "      <td>607247685</td>\n",
       "      <td>En tránsito</td>\n",
       "      <td>16/10/23</td>\n",
       "      <td>Lahonce,  France</td>\n",
       "      <td>2 days</td>\n",
       "      <td>18/10/23</td>\n",
       "      <td></td>\n",
       "      <td>Envío retrasado en tránsito. Acciones de recup...</td>\n",
       "      <td>EXCEPTION ALERT</td>\n",
       "    </tr>\n",
       "    <tr>\n",
       "      <th>2</th>\n",
       "      <td>DSD/120754</td>\n",
       "      <td>607250021</td>\n",
       "      <td>En tránsito</td>\n",
       "      <td>17/10/23</td>\n",
       "      <td>La Ferriere,  France</td>\n",
       "      <td>2 days</td>\n",
       "      <td>19/10/23</td>\n",
       "      <td></td>\n",
       "      <td>Envío retrasado en tránsito. Acciones de recup...</td>\n",
       "      <td>EXCEPTION ALERT</td>\n",
       "    </tr>\n",
       "    <tr>\n",
       "      <th>3</th>\n",
       "      <td>DSD/120830</td>\n",
       "      <td>607250344</td>\n",
       "      <td>En tránsito</td>\n",
       "      <td>17/10/23</td>\n",
       "      <td>Fonbeauzard,  France</td>\n",
       "      <td>1 day</td>\n",
       "      <td>18/10/23</td>\n",
       "      <td></td>\n",
       "      <td>Envío retrasado en tránsito. Acciones de recup...</td>\n",
       "      <td>EXCEPTION ALERT</td>\n",
       "    </tr>\n",
       "    <tr>\n",
       "      <th>4</th>\n",
       "      <td>DSD/120206</td>\n",
       "      <td>607248164</td>\n",
       "      <td>En tránsito</td>\n",
       "      <td>16/10/23</td>\n",
       "      <td>Lahonce,  France</td>\n",
       "      <td>42 days</td>\n",
       "      <td>26/10/23</td>\n",
       "      <td>Blagnac</td>\n",
       "      <td>El envío llegó al punto de conexión</td>\n",
       "      <td></td>\n",
       "    </tr>\n",
       "    <tr>\n",
       "      <th>...</th>\n",
       "      <td>...</td>\n",
       "      <td>...</td>\n",
       "      <td>...</td>\n",
       "      <td>...</td>\n",
       "      <td>...</td>\n",
       "      <td>...</td>\n",
       "      <td>...</td>\n",
       "      <td>...</td>\n",
       "      <td>...</td>\n",
       "      <td>...</td>\n",
       "    </tr>\n",
       "    <tr>\n",
       "      <th>106</th>\n",
       "      <td>DSD/121662</td>\n",
       "      <td>607254292</td>\n",
       "      <td>Entregado</td>\n",
       "      <td>19/10/23</td>\n",
       "      <td>Tonneins,  France</td>\n",
       "      <td>4 days</td>\n",
       "      <td>23/10/23</td>\n",
       "      <td>Le Passage</td>\n",
       "      <td>Envío entregado en buen estado</td>\n",
       "      <td></td>\n",
       "    </tr>\n",
       "    <tr>\n",
       "      <th>107</th>\n",
       "      <td>DSD/121682</td>\n",
       "      <td>607254417</td>\n",
       "      <td>Entregado</td>\n",
       "      <td>19/10/23</td>\n",
       "      <td>Sarlat La Caneda,  France</td>\n",
       "      <td>4 days</td>\n",
       "      <td>23/10/23</td>\n",
       "      <td>Marsac Sur L Isle</td>\n",
       "      <td>Envío entregado en buen estado</td>\n",
       "      <td></td>\n",
       "    </tr>\n",
       "    <tr>\n",
       "      <th>108</th>\n",
       "      <td>DSD/121648</td>\n",
       "      <td>607254332</td>\n",
       "      <td>Entregado</td>\n",
       "      <td>19/10/23</td>\n",
       "      <td>Valenton,  France</td>\n",
       "      <td>4 days</td>\n",
       "      <td>23/10/23</td>\n",
       "      <td>Creteil</td>\n",
       "      <td>Envío entregado en buen estado</td>\n",
       "      <td></td>\n",
       "    </tr>\n",
       "    <tr>\n",
       "      <th>109</th>\n",
       "      <td>DSD/121652</td>\n",
       "      <td>607254235</td>\n",
       "      <td>Entregado</td>\n",
       "      <td>19/10/23</td>\n",
       "      <td>Ales,  France</td>\n",
       "      <td>5 days</td>\n",
       "      <td>24/10/23</td>\n",
       "      <td>Nimes</td>\n",
       "      <td>Envío entregado en buen estado</td>\n",
       "      <td></td>\n",
       "    </tr>\n",
       "    <tr>\n",
       "      <th>110</th>\n",
       "      <td>DSD/121684</td>\n",
       "      <td>607254425</td>\n",
       "      <td>Entregado</td>\n",
       "      <td>19/10/23</td>\n",
       "      <td>Furiani,  France</td>\n",
       "      <td>5 days</td>\n",
       "      <td>24/10/23</td>\n",
       "      <td>Borgo</td>\n",
       "      <td>Envío entregado en buen estado</td>\n",
       "      <td></td>\n",
       "    </tr>\n",
       "  </tbody>\n",
       "</table>\n",
       "<p>111 rows × 10 columns</p>\n",
       "</div>"
      ],
      "text/plain": [
       "    Client Reference Shipment Number   TNT Status Shipment Origin Date  \\\n",
       "0         DSD/121190       607252040   En entrega             18/10/23   \n",
       "1         DSD/120004       607247685  En tránsito             16/10/23   \n",
       "2         DSD/120754       607250021  En tránsito             17/10/23   \n",
       "3         DSD/120830       607250344  En tránsito             17/10/23   \n",
       "4         DSD/120206       607248164  En tránsito             16/10/23   \n",
       "..               ...             ...          ...                  ...   \n",
       "106       DSD/121662       607254292    Entregado             19/10/23   \n",
       "107       DSD/121682       607254417    Entregado             19/10/23   \n",
       "108       DSD/121648       607254332    Entregado             19/10/23   \n",
       "109       DSD/121652       607254235    Entregado             19/10/23   \n",
       "110       DSD/121684       607254425    Entregado             19/10/23   \n",
       "\n",
       "          Shipment Destination Processing Days Last Update      Last Location  \\\n",
       "0               Laval,  France         40 days    20/10/23             Change   \n",
       "1             Lahonce,  France          2 days    18/10/23                      \n",
       "2         La Ferriere,  France          2 days    19/10/23                      \n",
       "3         Fonbeauzard,  France           1 day    18/10/23                      \n",
       "4             Lahonce,  France         42 days    26/10/23            Blagnac   \n",
       "..                         ...             ...         ...                ...   \n",
       "106          Tonneins,  France          4 days    23/10/23         Le Passage   \n",
       "107  Sarlat La Caneda,  France          4 days    23/10/23  Marsac Sur L Isle   \n",
       "108          Valenton,  France          4 days    23/10/23            Creteil   \n",
       "109              Ales,  France          5 days    24/10/23              Nimes   \n",
       "110           Furiani,  France          5 days    24/10/23              Borgo   \n",
       "\n",
       "                                           Last Action  \\\n",
       "0                             El envío está en camino.   \n",
       "1    Envío retrasado en tránsito. Acciones de recup...   \n",
       "2    Envío retrasado en tránsito. Acciones de recup...   \n",
       "3    Envío retrasado en tránsito. Acciones de recup...   \n",
       "4                  El envío llegó al punto de conexión   \n",
       "..                                                 ...   \n",
       "106                     Envío entregado en buen estado   \n",
       "107                     Envío entregado en buen estado   \n",
       "108                     Envío entregado en buen estado   \n",
       "109                     Envío entregado en buen estado   \n",
       "110                     Envío entregado en buen estado   \n",
       "\n",
       "    TNT Exception Notification  \n",
       "0                               \n",
       "1              EXCEPTION ALERT  \n",
       "2              EXCEPTION ALERT  \n",
       "3              EXCEPTION ALERT  \n",
       "4                               \n",
       "..                         ...  \n",
       "106                             \n",
       "107                             \n",
       "108                             \n",
       "109                             \n",
       "110                             \n",
       "\n",
       "[111 rows x 10 columns]"
      ]
     },
     "execution_count": 11,
     "metadata": {},
     "output_type": "execute_result"
    }
   ],
   "source": [
    "processed_df"
   ]
  },
  {
   "cell_type": "code",
   "execution_count": null,
   "id": "6b1efd2a",
   "metadata": {},
   "outputs": [],
   "source": []
  },
  {
   "cell_type": "code",
   "execution_count": 12,
   "id": "a2fa7238",
   "metadata": {},
   "outputs": [],
   "source": [
    "# Import customized functions from functions_z_extra.py file\n",
    "from functions_z_extra import plot_horizontal_bar, display_exception_shipments, check_inconsistencies"
   ]
  },
  {
   "cell_type": "code",
   "execution_count": 13,
   "id": "5546153b",
   "metadata": {},
   "outputs": [
    {
     "data": {
      "image/png": "[encoded data removed]",
      "text/plain": [
       "<Figure size 1000x600 with 1 Axes>"
      ]
     },
     "metadata": {},
     "output_type": "display_data"
    }
   ],
   "source": [
    "# Function to plot 'TNT Status' unique count\n",
    "plot_horizontal_bar(processed_df)"
   ]
  },
  {
   "cell_type": "code",
   "execution_count": null,
   "id": "9a0bf2f7",
   "metadata": {},
   "outputs": [],
   "source": []
  },
  {
   "cell_type": "markdown",
   "id": "6930461c",
   "metadata": {},
   "source": [
    "### TNT Exception Notification Detected"
   ]
  },
  {
   "cell_type": "code",
   "execution_count": 14,
   "id": "7ff3b987",
   "metadata": {},
   "outputs": [
    {
     "data": {
      "text/markdown": [
       "**3 Exception Notification detected!**"
      ],
      "text/plain": [
       "<IPython.core.display.Markdown object>"
      ]
     },
     "metadata": {},
     "output_type": "display_data"
    },
    {
     "data": {
      "text/html": [
       "<table border=\"1\" class=\"dataframe\">\n",
       "  <thead>\n",
       "    <tr style=\"text-align: right;\">\n",
       "      <th></th>\n",
       "      <th>Shipment Number</th>\n",
       "      <th>TNT Exception Notification</th>\n",
       "      <th>URL</th>\n",
       "    </tr>\n",
       "  </thead>\n",
       "  <tbody>\n",
       "    <tr>\n",
       "      <th>1</th>\n",
       "      <td>607247685</td>\n",
       "      <td>EXCEPTION ALERT</td>\n",
       "      <td><a href='https://www.tnt.com/express/es_es/site/herramientas-envio/seguimiento.html?searchType=con&cons=607247685' target='_blank'>Link</a></td>\n",
       "    </tr>\n",
       "    <tr>\n",
       "      <th>2</th>\n",
       "      <td>607250021</td>\n",
       "      <td>EXCEPTION ALERT</td>\n",
       "      <td><a href='https://www.tnt.com/express/es_es/site/herramientas-envio/seguimiento.html?searchType=con&cons=607250021' target='_blank'>Link</a></td>\n",
       "    </tr>\n",
       "    <tr>\n",
       "      <th>3</th>\n",
       "      <td>607250344</td>\n",
       "      <td>EXCEPTION ALERT</td>\n",
       "      <td><a href='https://www.tnt.com/express/es_es/site/herramientas-envio/seguimiento.html?searchType=con&cons=607250344' target='_blank'>Link</a></td>\n",
       "    </tr>\n",
       "  </tbody>\n",
       "</table>"
      ],
      "text/plain": [
       "<IPython.core.display.HTML object>"
      ]
     },
     "metadata": {},
     "output_type": "display_data"
    }
   ],
   "source": [
    "# Apply function display_exception_shipments\n",
    "exception_df = display_exception_shipments(processed_df)\n",
    "exception_df"
   ]
  },
  {
   "cell_type": "code",
   "execution_count": null,
   "id": "6fca51fd",
   "metadata": {},
   "outputs": [],
   "source": []
  },
  {
   "cell_type": "markdown",
   "id": "b4e9051b",
   "metadata": {},
   "source": [
    "### Inconsistencies"
   ]
  },
  {
   "cell_type": "code",
   "execution_count": 15,
   "id": "778bcba7",
   "metadata": {},
   "outputs": [
    {
     "name": "stdout",
     "output_type": "stream",
     "text": [
      "Original Length: 111\n",
      "Extracted DataFrame Length: 111\n",
      "Difference in Length: 0\n",
      "\n",
      "DataFrame with Missing References:\n"
     ]
    },
    {
     "data": {
      "text/html": [
       "<div>\n",
       "<style scoped>\n",
       "    .dataframe tbody tr th:only-of-type {\n",
       "        vertical-align: middle;\n",
       "    }\n",
       "\n",
       "    .dataframe tbody tr th {\n",
       "        vertical-align: top;\n",
       "    }\n",
       "\n",
       "    .dataframe thead th {\n",
       "        text-align: right;\n",
       "    }\n",
       "</style>\n",
       "<table border=\"1\" class=\"dataframe\">\n",
       "  <thead>\n",
       "    <tr style=\"text-align: right;\">\n",
       "      <th></th>\n",
       "      <th>LOGIS ID</th>\n",
       "      <th>Carrier</th>\n",
       "      <th>T&amp;T reference</th>\n",
       "      <th>Status</th>\n",
       "    </tr>\n",
       "  </thead>\n",
       "  <tbody>\n",
       "    <tr>\n",
       "      <th>0</th>\n",
       "      <td>DSD121598</td>\n",
       "      <td>TNT</td>\n",
       "      <td>607253941</td>\n",
       "      <td>IN TRANSIT</td>\n",
       "    </tr>\n",
       "  </tbody>\n",
       "</table>\n",
       "</div>"
      ],
      "text/plain": [
       "    LOGIS ID Carrier T&T reference      Status\n",
       "0  DSD121598     TNT     607253941  IN TRANSIT"
      ]
     },
     "execution_count": 15,
     "metadata": {},
     "output_type": "execute_result"
    }
   ],
   "source": [
    "# Apply function check_inconsistencies\n",
    "check_inconsistencies(excel_tests_file_path, df)"
   ]
  },
  {
   "cell_type": "code",
   "execution_count": null,
   "id": "42c9bb9e",
   "metadata": {},
   "outputs": [],
   "source": []
  },
  {
   "cell_type": "code",
   "execution_count": null,
   "id": "ea932e74",
   "metadata": {},
   "outputs": [],
   "source": []
  }
 ],
 "metadata": {
  "kernelspec": {
   "display_name": "Python 3 (ipykernel)",
   "language": "python",
   "name": "python3"
  },
  "language_info": {
   "codemirror_mode": {
    "name": "ipython",
    "version": 3
   },
   "file_extension": ".py",
   "mimetype": "text/x-python",
   "name": "python",
   "nbconvert_exporter": "python",
   "pygments_lexer": "ipython3",
   "version": "3.9.13"
  }
 },
 "nbformat": 4,
 "nbformat_minor": 5
}
